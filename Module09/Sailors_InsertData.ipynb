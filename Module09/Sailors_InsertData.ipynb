{
 "cells": [
  {
   "cell_type": "code",
   "execution_count": 26,
   "metadata": {},
   "outputs": [],
   "source": [
    "# import the sqlite library\n",
    "import sqlite3"
   ]
  },
  {
   "cell_type": "code",
   "execution_count": 27,
   "metadata": {},
   "outputs": [],
   "source": [
    "# helper functions here"
   ]
  },
  {
   "cell_type": "code",
   "execution_count": 28,
   "metadata": {},
   "outputs": [],
   "source": [
    "# create the connection I will use to connection to the database\n",
    "# the database should exist before running this, otherwise it will create an empty database\n",
    "connSailors = sqlite3.connect('sailors.db')"
   ]
  },
  {
   "cell_type": "code",
   "execution_count": 29,
   "metadata": {},
   "outputs": [],
   "source": [
    "# we need a cursor so we can \"move\" through the database (i.e. use SQL statements and get/insert/update/delete data)\n",
    "cursorSailors = connSailors.cursor()"
   ]
  },
  {
   "cell_type": "code",
   "execution_count": 30,
   "metadata": {},
   "outputs": [
    {
     "name": "stdout",
     "output_type": "stream",
     "text": [
      "[(101, 'Minnow', 'Blue'), (102, 'Voyager', 'Red'), (103, 'Marlin', 'Yellow'), (104, 'Happy', 'Red'), (105, 'Sinker', 'Green')]\n"
     ]
    }
   ],
   "source": [
    "# DELETE all existing records in the Boats table\n",
    "# WARNING: this does what it says it does.\n",
    "# WHY DO THIS?? So you don't create duplicate records\n",
    "sqlDeleteBoats = 'DELETE FROM Boats'\n",
    "cursorSailors.execute(sqlDeleteBoats)\n",
    "\n",
    "# insert into the Boats table\n",
    "sqlInsertBoats = '''INSERT INTO Boats (bid, bname, color) VALUES (101, 'Minnow', 'Blue')''' \n",
    "cursorSailors.execute(sqlInsertBoats)\n",
    "\n",
    "sqlInsertBoats = '''INSERT INTO Boats (bid, bname, color) VALUES (102, 'Voyager', 'Red')'''\n",
    "cursorSailors.execute(sqlInsertBoats)\n",
    "\n",
    "sqlInsertBoats = '''INSERT INTO Boats (bid, bname, color) VALUES (103, 'Marlin', 'Yellow')'''\n",
    "cursorSailors.execute(sqlInsertBoats)\n",
    "\n",
    "sqlInsertBoats = '''INSERT INTO Boats (bid, bname, color) VALUES (104, 'Happy', 'Red')'''\n",
    "cursorSailors.execute(sqlInsertBoats)\n",
    "\n",
    "sqlInsertBoats = '''INSERT INTO Boats (bid, bname, color) VALUES (105, 'Sinker', 'Green')'''\n",
    "cursorSailors.execute(sqlInsertBoats)\n",
    "\n",
    "# do an initial SELECT to see results\n",
    "cursorSailors.execute(\"SELECT * FROM Boats\")\n",
    "print(cursorSailors.fetchall())\n"
   ]
  },
  {
   "cell_type": "code",
   "execution_count": 31,
   "metadata": {},
   "outputs": [
    {
     "name": "stdout",
     "output_type": "stream",
     "text": [
      "[(22, 'Yuppy', 9, 35.0), (31, 'Lubber', 8, 55.5), (44, 'Guppy', 5, 35.0), (48, 'Ole Red', 8, 92.3), (58, 'Rusty', 10, 40.0)]\n"
     ]
    }
   ],
   "source": [
    "# DELETE all existing records in the Sailors table\n",
    "# WARNING: this does what it says it does.\n",
    "# WHY DO THIS?? So you don't create duplicate records\n",
    "sqlDeleteSailors = 'DELETE FROM Sailors'\n",
    "cursorSailors.execute(sqlDeleteSailors)\n",
    "\n",
    "# insert into the Sailors table\n",
    "sqlInsertSailors = '''INSERT INTO Sailors (sid, sname, rating, age) VALUES (22, 'Yuppy', 9, 35.0)''' \n",
    "cursorSailors.execute(sqlInsertSailors)\n",
    "\n",
    "sqlInsertSailors = '''INSERT INTO Sailors (sid, sname, rating, age) VALUES (31, 'Lubber', 8, 55.5)''' \n",
    "cursorSailors.execute(sqlInsertSailors)\n",
    "\n",
    "sqlInsertSailors = '''INSERT INTO Sailors (sid, sname, rating, age) VALUES (44, 'Guppy', 5, 35.0)''' \n",
    "cursorSailors.execute(sqlInsertSailors)\n",
    "\n",
    "sqlInsertSailors = '''INSERT INTO Sailors (sid, sname, rating, age) VALUES (48, 'Ole Red', 8, 92.3)''' \n",
    "cursorSailors.execute(sqlInsertSailors)\n",
    "\n",
    "sqlInsertSailors = '''INSERT INTO Sailors (sid, sname, rating, age) VALUES (58, 'Rusty', 10, 40.0)''' \n",
    "cursorSailors.execute(sqlInsertSailors)\n",
    "\n",
    "# do an initial SELECT to see results\n",
    "cursorSailors.execute(\"SELECT * FROM Sailors\")\n",
    "print(cursorSailors.fetchall())"
   ]
  },
  {
   "cell_type": "code",
   "execution_count": 32,
   "metadata": {},
   "outputs": [
    {
     "name": "stdout",
     "output_type": "stream",
     "text": [
      "[(22, 101, '5-Jun-03'), (22, 104, '15-Jun-03'), (44, 102, '5-Jun-03'), (48, 105, '14-Jun-03'), (58, 103, '7-Jun-03')]\n"
     ]
    }
   ],
   "source": [
    "# DELETE all existing records in the Reserves table\n",
    "# WARNING: this does what it says it does.\n",
    "# WHY DO THIS?? So you don't create duplicate records\n",
    "sqlDeleteReserves = 'DELETE FROM Reserves'\n",
    "cursorSailors.execute(sqlDeleteReserves)\n",
    "\n",
    "# insert into the Reserves table\n",
    "sqlInsertReserves= '''INSERT INTO Reserves (sid, bid, day) VALUES (22,101,'5-Jun-03')''' \n",
    "cursorSailors.execute(sqlInsertReserves)\n",
    "\n",
    "sqlInsertReserves= '''INSERT INTO Reserves (sid, bid, day) VALUES (22,104,'15-Jun-03')''' \n",
    "cursorSailors.execute(sqlInsertReserves)\n",
    "\n",
    "sqlInsertReserves= '''INSERT INTO Reserves (sid, bid, day) VALUES (44,102,'5-Jun-03')''' \n",
    "cursorSailors.execute(sqlInsertReserves)\n",
    "\n",
    "sqlInsertReserves= '''INSERT INTO Reserves (sid, bid, day) VALUES (48,105,'14-Jun-03')''' \n",
    "cursorSailors.execute(sqlInsertReserves)\n",
    "\n",
    "sqlInsertReserves= '''INSERT INTO Reserves (sid, bid, day) VALUES (58,103,'7-Jun-03')''' \n",
    "cursorSailors.execute(sqlInsertReserves)\n",
    "\n",
    "\n",
    "# do an initial SELECT to see results\n",
    "cursorSailors.execute(\"SELECT * FROM Reserves\")\n",
    "print(cursorSailors.fetchall())"
   ]
  },
  {
   "cell_type": "code",
   "execution_count": 33,
   "metadata": {},
   "outputs": [],
   "source": [
    "# housekeeping\n",
    "# need to commit all the inserts! if you don't do this, they won't be there in another session\n",
    "connSailors.commit()\n",
    "cursorSailors.close()\n",
    "connSailors.close()"
   ]
  },
  {
   "cell_type": "code",
   "execution_count": null,
   "metadata": {},
   "outputs": [],
   "source": []
  }
 ],
 "metadata": {
  "kernelspec": {
   "display_name": "Python 3",
   "language": "python",
   "name": "python3"
  },
  "language_info": {
   "codemirror_mode": {
    "name": "ipython",
    "version": 3
   },
   "file_extension": ".py",
   "mimetype": "text/x-python",
   "name": "python",
   "nbconvert_exporter": "python",
   "pygments_lexer": "ipython3",
   "version": "3.8.3"
  }
 },
 "nbformat": 4,
 "nbformat_minor": 4
}
