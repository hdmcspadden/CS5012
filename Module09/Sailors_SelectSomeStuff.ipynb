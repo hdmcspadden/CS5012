{
 "cells": [
  {
   "cell_type": "code",
   "execution_count": 21,
   "metadata": {},
   "outputs": [],
   "source": [
    "# import the sqlite library\n",
    "import sqlite3"
   ]
  },
  {
   "cell_type": "code",
   "execution_count": 22,
   "metadata": {},
   "outputs": [],
   "source": [
    "# helper functions here"
   ]
  },
  {
   "cell_type": "code",
   "execution_count": 23,
   "metadata": {},
   "outputs": [],
   "source": [
    "# create the connection I will use to connection to the database\n",
    "# the database should exist before running this, otherwise it will create an empty database\n",
    "connSailors = sqlite3.connect('sailors.db')"
   ]
  },
  {
   "cell_type": "code",
   "execution_count": 24,
   "metadata": {},
   "outputs": [],
   "source": [
    "# we need a cursor so we can \"move\" through the database (i.e. use SQL statements and get/insert/update/delete data)\n",
    "cursorSailors = connSailors.cursor()"
   ]
  },
  {
   "cell_type": "code",
   "execution_count": 25,
   "metadata": {},
   "outputs": [
    {
     "name": "stdout",
     "output_type": "stream",
     "text": [
      "[(101, 'Minnow', 'Blue'), (102, 'Voyager', 'Red'), (103, 'Marlin', 'Yellow'), (104, 'Happy', 'Red'), (105, 'Sinker', 'Green')]\n",
      "[(22, 'Yuppy', 9, 35.0), (31, 'Lubber', 8, 55.5), (44, 'Guppy', 5, 35.0), (48, 'Ole Red', 8, 92.3), (58, 'Rusty', 10, 40.0)]\n",
      "[(22, 101, '5-Jun-03'), (22, 104, '15-Jun-03'), (44, 102, '5-Jun-03'), (48, 105, '14-Jun-03'), (58, 103, '7-Jun-03')]\n"
     ]
    }
   ],
   "source": [
    "# do an initial SELECT to see ALL results in tables\n",
    "cursorSailors.execute(\"SELECT * FROM Boats\")\n",
    "print(cursorSailors.fetchall())\n",
    "\n",
    "cursorSailors.execute(\"SELECT * FROM Sailors\")\n",
    "print(cursorSailors.fetchall())\n",
    "\n",
    "cursorSailors.execute(\"SELECT * FROM Reserves\")\n",
    "print(cursorSailors.fetchall())\n"
   ]
  },
  {
   "cell_type": "code",
   "execution_count": 34,
   "metadata": {},
   "outputs": [
    {
     "name": "stdout",
     "output_type": "stream",
     "text": [
      "[(1, 'Sinker', 105), (1, 'Happy', 104), (1, 'Marlin', 103), (1, 'Voyager', 102), (1, 'Minnow', 101)]\n"
     ]
    }
   ],
   "source": [
    "# now I can practice some selects!\n",
    "sqlTest1 = '''SELECT COUNT(DISTINCT(sid)) AS sCount, bname, Reserves.bid\n",
    "FROM Reserves\n",
    "JOIN Boats ON Reserves.bid = Boats.bid\n",
    "GROUP BY Reserves.bid\n",
    "ORDER BY COUNT(DISTINCT(sid)) DESC'''\n",
    "\n",
    "cursorSailors.execute(sqlTest1)\n",
    "print(cursorSailors.fetchall())"
   ]
  },
  {
   "cell_type": "code",
   "execution_count": 37,
   "metadata": {},
   "outputs": [
    {
     "name": "stdout",
     "output_type": "stream",
     "text": [
      "[('Sinker', 105, 92.3), ('Happy', 104, 35.0), ('Marlin', 103, 40.0), ('Voyager', 102, 35.0), ('Minnow', 101, 35.0)]\n"
     ]
    }
   ],
   "source": [
    "# now I can practice some selects!\n",
    "sqlTest2 = '''SELECT bname, Reserves.bid, AVG(Sailors.age) AS avg_age\n",
    "FROM Reserves\n",
    "JOIN Boats ON Reserves.bid = Boats.bid\n",
    "JOIN Sailors ON Reserves.sid = Sailors.sid\n",
    "GROUP BY Reserves.bid\n",
    "ORDER BY Reserves.bid DESC'''\n",
    "\n",
    "cursorSailors.execute(sqlTest2)\n",
    "print(cursorSailors.fetchall())"
   ]
  },
  {
   "cell_type": "code",
   "execution_count": 44,
   "metadata": {},
   "outputs": [
    {
     "name": "stdout",
     "output_type": "stream",
     "text": [
      "[('Sinker', 105, 92.3), ('Marlin', 103, 40.0)]\n"
     ]
    }
   ],
   "source": [
    "# now I can practice some selects!\n",
    "sqlTest3 = '''\n",
    "SELECT bname, bid, avg_age\n",
    "FROM\n",
    "(SELECT bname, Reserves.bid, AVG(Sailors.age) AS avg_age\n",
    "FROM Reserves\n",
    "JOIN Boats ON Reserves.bid = Boats.bid\n",
    "JOIN Sailors ON Reserves.sid = Sailors.sid\n",
    "GROUP BY Reserves.bid\n",
    "ORDER BY Reserves.bid DESC)\n",
    "WHERE avg_age > 35\n",
    "'''\n",
    "\n",
    "cursorSailors.execute(sqlTest3)\n",
    "print(cursorSailors.fetchall())"
   ]
  },
  {
   "cell_type": "code",
   "execution_count": 19,
   "metadata": {},
   "outputs": [],
   "source": [
    "# housekeeping\n",
    "connSailors.commit()\n",
    "cursorSailors.close()\n",
    "connSailors.close()"
   ]
  },
  {
   "cell_type": "code",
   "execution_count": null,
   "metadata": {},
   "outputs": [],
   "source": []
  }
 ],
 "metadata": {
  "kernelspec": {
   "display_name": "Python 3",
   "language": "python",
   "name": "python3"
  },
  "language_info": {
   "codemirror_mode": {
    "name": "ipython",
    "version": 3
   },
   "file_extension": ".py",
   "mimetype": "text/x-python",
   "name": "python",
   "nbconvert_exporter": "python",
   "pygments_lexer": "ipython3",
   "version": "3.8.3"
  }
 },
 "nbformat": 4,
 "nbformat_minor": 4
}
