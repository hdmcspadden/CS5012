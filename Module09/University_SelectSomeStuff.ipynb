{
 "cells": [
  {
   "cell_type": "code",
   "execution_count": 1,
   "metadata": {},
   "outputs": [],
   "source": [
    "# import the sqlite library\n",
    "import sqlite3"
   ]
  },
  {
   "cell_type": "code",
   "execution_count": 47,
   "metadata": {},
   "outputs": [],
   "source": [
    "# helper functions here"
   ]
  },
  {
   "cell_type": "code",
   "execution_count": 2,
   "metadata": {},
   "outputs": [],
   "source": [
    "# create the connection I will use to connection to the database\n",
    "# the database should exist before running this, otherwise it will create an empty database\n",
    "conn = sqlite3.connect('uni.db')"
   ]
  },
  {
   "cell_type": "code",
   "execution_count": 3,
   "metadata": {},
   "outputs": [],
   "source": [
    "# we need a cursor so we can \"move\" through the database (i.e. use SQL statements and get/insert/update/delete data)\n",
    "cursor = conn.cursor()"
   ]
  },
  {
   "cell_type": "code",
   "execution_count": 4,
   "metadata": {},
   "outputs": [
    {
     "name": "stdout",
     "output_type": "stream",
     "text": [
      "[('Biology', 'Watson', 90000.0), ('Comp. Sci.', 'Taylor', 100000.0), ('Elec. Eng.', 'Taylor', 85000.0), ('Finance', 'Painter', 120000.0), ('History', 'Painter', 50000.0), ('Music', 'Packard', 80000.0), ('Physics', 'Watson', 70000.0)]\n",
      "[('BIO-101', 'Intro. to Biology', 'Biology', 4), ('BIO-301', 'Genetics', 'Biology', 4), ('BIO-399', 'Computational Biology', 'Biology', 3), ('CS-101', 'Intro. to Computer Science', 'Comp. Sci.', 4), ('CS-190', 'Game Design', 'Comp. Sci.', 4), ('CS-315', 'Robotics', 'Comp. Sci.', 3), ('CS-347', 'Database System Concepts', 'Comp. Sci.', 3), ('CS-319', 'Image Processing', 'Comp. Sci.', 3), ('EE-181', 'Intro. to Digital Systems', 'Elec. Eng.', 3), ('FIN-201', 'Investment Banking', 'Finance', 3), ('HIS-351', 'World History', 'History', 3), ('MU-199', 'Music Video Production', 'Music', 3), ('PHY-101', 'Physical Principles', 'Physics', 4), ('CS-001', 'Weekly Seminar', 'Comp. Sci.', 0)]\n",
      "[(10101, 'Srinivasan', 'Comp. Sci.', 65000.0), (12121, 'Wu', 'Finance', 90000.0), (15151, 'Mozart', 'Music', 40000.0), (22222, 'Einstein', 'Physics', 95000.0), (32343, 'El Said', 'History', 60000.0), (33456, 'Gold', 'Physics', 87000.0), (45565, 'Katz', 'Comp. Sci.', 75000.0), (58583, 'Califieri', 'History', 62000.0), (76543, 'Singh', 'Finance', 80000.0), (76766, 'Crick', 'Biology', 72000.0), (83821, 'Brandt', 'Comp. Sci.', 92000.0), (98345, 'Kim', 'Elec. Eng.', 80000.0)]\n",
      "[('BIO-101', 1, 'Summer', 2017, 'Painter', 514, 'B'), ('BIO-301', 1, 'Summer', 2018, 'Painter', 514, 'A'), ('CS-101', 1, 'Fall', 2017, 'Packard', 101, 'H'), ('CS-101', 1, 'Spring', 2018, 'Packard', 101, 'F'), ('CS-190', 1, 'Spring', 2017, 'Taylor', 3128, 'E'), ('CS-190', 2, 'Spring', 2017, 'Taylor', 3128, 'A'), ('CS-315', 1, 'Spring', 2018, 'Watson', 120, 'D'), ('CS-319', 1, 'Spring', 2018, 'Watson', 100, 'B'), ('CS-319', 2, 'Spring', 2018, 'Taylor', 3128, 'C'), ('CS-347', 1, 'Fall', 2017, 'Taylor', 3128, 'A'), ('EE-181', 1, 'Spring', 2017, 'Taylor', 3128, 'C'), ('FIN-201', 1, 'Spring', 2018, 'Packard', 101, 'B'), ('HIS-351', 1, 'Spring', 2018, 'Painter', 514, 'C'), ('MU-199', 1, 'Spring', 2018, 'Packard', 101, 'D'), ('PHY-101', 1, 'Fall', 2017, 'Watson', 100, 'A'), ('CS-001', 1, 'Fall', 2017, None, None, 'A')]\n",
      "[(1, 'McSpadden', 'Comp. Sci.', 32), (2, 'Todd', 'Music', 100), (3, 'Walker', 'Comp. Sci.', 4), (4, 'Widick', 'Finance', 16), (5, 'Sams', 'Biology', 96)]\n",
      "[(1, 'CS-101', 1, 'Fall', 2017, 'A'), (1, 'CS-315', 1, 'Spring', 2018, 'A'), (2, 'CS-315', 1, 'Spring', 2018, 'A'), (3, 'CS-101', 1, 'Spring', 2018, 'A'), (4, 'EE-181', 1, 'Spring', 2017, 'A'), (5, 'MU-199', 1, 'Spring', 2018, 'A'), (1, 'EE-181', 1, 'Spring', 2017, 'A'), (1, 'CS-001', 1, 'Fall', 2017, ''), (3, 'CS-001', 1, 'Fall', 2017, '')]\n"
     ]
    }
   ],
   "source": [
    "# do an initial SELECT to see ALL results in tables\n",
    "cursor.execute(\"SELECT * FROM department\")\n",
    "print(cursor.fetchall())\n",
    "\n",
    "cursor.execute(\"SELECT * FROM course\")\n",
    "print(cursor.fetchall())\n",
    "\n",
    "cursor.execute(\"SELECT * FROM instructor\")\n",
    "print(cursor.fetchall())\n",
    "\n",
    "cursor.execute(\"SELECT * FROM section\")\n",
    "print(cursor.fetchall())\n",
    "\n",
    "cursor.execute(\"SELECT * FROM student\")\n",
    "print(cursor.fetchall())\n",
    "\n",
    "cursor.execute(\"SELECT * FROM takes\")\n",
    "print(cursor.fetchall())"
   ]
  },
  {
   "cell_type": "markdown",
   "metadata": {},
   "source": [
    "Find the ID and name of each student who has taken at least one Comp. Sci course; make sure there are no duplicate names in the result."
   ]
  },
  {
   "cell_type": "code",
   "execution_count": 4,
   "metadata": {},
   "outputs": [
    {
     "name": "stdout",
     "output_type": "stream",
     "text": [
      "[('Walker',), ('Todd',), ('McSpadden',)]\n"
     ]
    }
   ],
   "source": [
    "# now I can practice some selects!\n",
    "sql = '''SELECT DISTINCT(student.name)\n",
    "FROM student\n",
    "JOIN takes ON student.ID = takes.ID\n",
    "JOIN course on takes.course_id = course.course_id\n",
    "WHERE course.dept_name = 'Comp. Sci.'\n",
    "ORDER BY student.name DESC'''\n",
    "\n",
    "cursor.execute(sql)\n",
    "print(cursor.fetchall())"
   ]
  },
  {
   "cell_type": "markdown",
   "metadata": {},
   "source": [
    "Find the ID and name of each student who has not taken any course offered before 2017.\n",
    "\n",
    "SELECT\n",
    "   *\n",
    "FROM\n",
    "   Artists a\n",
    "WHERE\n",
    "   NOT EXISTS(\n",
    "      SELECT\n",
    "         1\n",
    "      FROM\n",
    "         Albums\n",
    "      WHERE\n",
    "         ArtistId = a.ArtistId\n",
    "   )\n",
    "ORDER BY Name;"
   ]
  },
  {
   "cell_type": "code",
   "execution_count": 5,
   "metadata": {},
   "outputs": [
    {
     "name": "stdout",
     "output_type": "stream",
     "text": [
      "[(2, 'Todd'), (5, 'Sams')]\n"
     ]
    }
   ],
   "source": [
    "sql = '''SELECT student.ID, student.name\n",
    "FROM student\n",
    "WHERE NOT EXISTS(\n",
    "SELECT 1\n",
    "FROM\n",
    "takes\n",
    "WHERE takes.year < 2018 AND takes.ID = student.ID)'''\n",
    "\n",
    "cursor.execute(sql)\n",
    "print(cursor.fetchall())"
   ]
  },
  {
   "cell_type": "code",
   "execution_count": 16,
   "metadata": {},
   "outputs": [
    {
     "name": "stdout",
     "output_type": "stream",
     "text": [
      "[(1, 'McSpadden'), (3, 'Walker'), (4, 'Widick')]\n"
     ]
    }
   ],
   "source": [
    "sql = '''\n",
    "SELECT DISTINCT takes.ID, student.name\n",
    "FROM\n",
    "takes\n",
    "JOIN student ON takes.ID = student.ID\n",
    "WHERE takes.year < 2018 AND takes.ID = student.ID'''\n",
    "\n",
    "cursor.execute(sql)\n",
    "print(cursor.fetchall())"
   ]
  },
  {
   "cell_type": "markdown",
   "metadata": {},
   "source": [
    "For each department, find the max salary of the instructors in that department. You may assume that every department has at least one instructor."
   ]
  },
  {
   "cell_type": "code",
   "execution_count": 37,
   "metadata": {},
   "outputs": [
    {
     "name": "stdout",
     "output_type": "stream",
     "text": [
      "[('Biology', 72000.0), ('Comp. Sci.', 92000.0), ('Elec. Eng.', 80000.0), ('Finance', 90000.0), ('History', 62000.0), ('Music', 40000.0), ('Physics', 95000.0)]\n"
     ]
    }
   ],
   "source": [
    "sql = '''SELECT dept_name, MAX(salary)\n",
    "FROM instructor\n",
    "GROUP BY dept_name'''\n",
    "\n",
    "cursor.execute(sql)\n",
    "print(cursor.fetchall())"
   ]
  },
  {
   "cell_type": "markdown",
   "metadata": {},
   "source": [
    "Part d: Find the lowest, across all departments, of the per-department maximum salary computes by the preceding query."
   ]
  },
  {
   "cell_type": "code",
   "execution_count": 6,
   "metadata": {},
   "outputs": [
    {
     "name": "stdout",
     "output_type": "stream",
     "text": [
      "[(40000.0, 'Music')]\n"
     ]
    }
   ],
   "source": [
    "sql = '''SELECT MIN(salary), dept_name FROM \n",
    "(SELECT dept_name, MAX(salary) AS salary\n",
    "FROM instructor\n",
    "GROUP BY dept_name)\n",
    "'''\n",
    "\n",
    "cursor.execute(sql)\n",
    "print(cursor.fetchall())"
   ]
  },
  {
   "cell_type": "markdown",
   "metadata": {},
   "source": [
    "Create a new course “CS-001” titled “Weekly Seminar” with 0 credits."
   ]
  },
  {
   "cell_type": "code",
   "execution_count": 42,
   "metadata": {},
   "outputs": [
    {
     "name": "stdout",
     "output_type": "stream",
     "text": [
      "[('BIO-101', 'Intro. to Biology', 'Biology', 4), ('BIO-301', 'Genetics', 'Biology', 4), ('BIO-399', 'Computational Biology', 'Biology', 3), ('CS-101', 'Intro. to Computer Science', 'Comp. Sci.', 4), ('CS-190', 'Game Design', 'Comp. Sci.', 4), ('CS-315', 'Robotics', 'Comp. Sci.', 3), ('CS-347', 'Database System Concepts', 'Comp. Sci.', 3), ('CS-319', 'Image Processing', 'Comp. Sci.', 3), ('EE-181', 'Intro. to Digital Systems', 'Elec. Eng.', 3), ('FIN-201', 'Investment Banking', 'Finance', 3), ('HIS-351', 'World History', 'History', 3), ('MU-199', 'Music Video Production', 'Music', 3), ('PHY-101', 'Physical Principles', 'Physics', 4), ('CS-001', 'Weekly Seminar', 'Comp. Sci.', 0)]\n"
     ]
    }
   ],
   "source": [
    "# insert into the course table\n",
    "sqlInsert = '''INSERT INTO course (course_id, title, dept_name, credits) \n",
    "VALUES ('CS-001', 'Weekly Seminar', 'Comp. Sci.',  0)''' \n",
    "cursor.execute(sqlInsert)\n",
    "\n",
    "# do an initial SELECT to see results\n",
    "cursor.execute(\"SELECT * FROM course\")\n",
    "print(cursor.fetchall())"
   ]
  },
  {
   "cell_type": "markdown",
   "metadata": {},
   "source": [
    "Create a section of this course in Fall 2017, with sec_id = 1, and with the location of the section not yet specified."
   ]
  },
  {
   "cell_type": "code",
   "execution_count": 44,
   "metadata": {},
   "outputs": [
    {
     "name": "stdout",
     "output_type": "stream",
     "text": [
      "[('BIO-101', 1, 'Summer', 2017, 'Painter', 514, 'B'), ('BIO-301', 1, 'Summer', 2018, 'Painter', 514, 'A'), ('CS-101', 1, 'Fall', 2017, 'Packard', 101, 'H'), ('CS-101', 1, 'Spring', 2018, 'Packard', 101, 'F'), ('CS-190', 1, 'Spring', 2017, 'Taylor', 3128, 'E'), ('CS-190', 2, 'Spring', 2017, 'Taylor', 3128, 'A'), ('CS-315', 1, 'Spring', 2018, 'Watson', 120, 'D'), ('CS-319', 1, 'Spring', 2018, 'Watson', 100, 'B'), ('CS-319', 2, 'Spring', 2018, 'Taylor', 3128, 'C'), ('CS-347', 1, 'Fall', 2017, 'Taylor', 3128, 'A'), ('EE-181', 1, 'Spring', 2017, 'Taylor', 3128, 'C'), ('FIN-201', 1, 'Spring', 2018, 'Packard', 101, 'B'), ('HIS-351', 1, 'Spring', 2018, 'Painter', 514, 'C'), ('MU-199', 1, 'Spring', 2018, 'Packard', 101, 'D'), ('PHY-101', 1, 'Fall', 2017, 'Watson', 100, 'A'), ('CS-001', 1, 'Fall', 2017, None, None, 'A')]\n"
     ]
    }
   ],
   "source": [
    "# insert into the section table\n",
    "sqlInsert = '''INSERT INTO section (course_id, sec_id, semester, year, time_slot_id) \n",
    "VALUES ('CS-001', 1, 'Fall', 2017, 'A')'''\n",
    "cursor.execute(sqlInsert)\n",
    "\n",
    "# do an initial SELECT to see results\n",
    "cursor.execute(\"SELECT * FROM section\")\n",
    "print(cursor.fetchall())"
   ]
  },
  {
   "cell_type": "markdown",
   "metadata": {},
   "source": [
    "Enroll every student in the Comp. Sci department in the above section."
   ]
  },
  {
   "cell_type": "code",
   "execution_count": 55,
   "metadata": {},
   "outputs": [
    {
     "name": "stdout",
     "output_type": "stream",
     "text": [
      "[(1, 'CS-101', 1, 'Fall', 2017, 'A'), (1, 'CS-315', 1, 'Spring', 2018, 'A'), (2, 'CS-315', 1, 'Spring', 2018, 'A'), (3, 'CS-101', 1, 'Spring', 2018, 'A'), (4, 'EE-181', 1, 'Spring', 2017, 'A'), (5, 'MU-199', 1, 'Spring', 2018, 'A'), (1, 'EE-181', 1, 'Spring', 2017, 'A'), (1, 'CS-001', 1, 'Fall', 2017, ''), (3, 'CS-001', 1, 'Fall', 2017, '')]\n"
     ]
    }
   ],
   "source": [
    "# insert into the takes table all Comp. Sci. students in\n",
    "sqlInsert = '''INSERT INTO takes (ID, course_id, sec_id, semester, year, grade)\n",
    "SELECT student.ID, 'CS-001', 1, 'Fall', 2017, ''\n",
    "FROM student\n",
    "WHERE student.dept_name = 'Comp. Sci.'\n",
    "'''\n",
    "cursor.execute(sqlInsert)\n",
    "\n",
    "conn.commit()\n",
    "\n",
    "# do an initial SELECT to see results\n",
    "cursor.execute(\"SELECT * FROM takes\")\n",
    "print(cursor.fetchall())\n",
    "\n",
    "#INSERT INTO queue (TransKey, CreateDateTime, Transmitted) \n",
    "#  SELECT Id, '2013-12-19T19:47:33',  0 \n",
    "#  FROM trans WHERE Id != (SELECT TransKey from queue)"
   ]
  },
  {
   "cell_type": "code",
   "execution_count": 56,
   "metadata": {},
   "outputs": [
    {
     "name": "stdout",
     "output_type": "stream",
     "text": [
      "[(1, 'CS-101', 1, 'Fall', 2017, 'A'), (1, 'CS-315', 1, 'Spring', 2018, 'A'), (2, 'CS-315', 1, 'Spring', 2018, 'A'), (3, 'CS-101', 1, 'Spring', 2018, 'A'), (4, 'EE-181', 1, 'Spring', 2017, 'A'), (5, 'MU-199', 1, 'Spring', 2018, 'A'), (1, 'EE-181', 1, 'Spring', 2017, 'A'), (1, 'CS-001', 1, 'Fall', 2017, ''), (3, 'CS-001', 1, 'Fall', 2017, '')]\n"
     ]
    }
   ],
   "source": [
    "sqlDelete = '''DELETE FROM takes \n",
    "WHERE ID = 12345 AND course_id = 'CS-001' AND sec_id = 1 AND semester = 'Fall' AND year = 2017'''\n",
    "cursor.execute(sqlDelete)\n",
    "\n",
    "# do a SELECT to see results\n",
    "cursor.execute(\"SELECT * FROM takes\")\n",
    "print(cursor.fetchall())"
   ]
  },
  {
   "cell_type": "markdown",
   "metadata": {},
   "source": [
    "Delete all takes tuples corresponding to any section of any course with the word “advanced” as a part of the title; ignore case when matching the word with the title."
   ]
  },
  {
   "cell_type": "code",
   "execution_count": 58,
   "metadata": {},
   "outputs": [
    {
     "name": "stdout",
     "output_type": "stream",
     "text": [
      "[(1, 'CS-101', 1, 'Fall', 2017, 'A'), (1, 'CS-315', 1, 'Spring', 2018, 'A'), (2, 'CS-315', 1, 'Spring', 2018, 'A'), (3, 'CS-101', 1, 'Spring', 2018, 'A'), (4, 'EE-181', 1, 'Spring', 2017, 'A'), (5, 'MU-199', 1, 'Spring', 2018, 'A'), (1, 'EE-181', 1, 'Spring', 2017, 'A'), (1, 'CS-001', 1, 'Fall', 2017, ''), (3, 'CS-001', 1, 'Fall', 2017, '')]\n"
     ]
    }
   ],
   "source": [
    "sqlDelete = '''DELETE FROM takes\n",
    "WHERE EXISTS\n",
    "  ( SELECT *\n",
    "    FROM takes\n",
    "    JOIN course ON takes.course_id = course.course_id\n",
    "    WHERE course.title LIKE '%advanced%' )\n",
    "'''\n",
    "cursor.execute(sqlDelete)\n",
    "\n",
    "# do a SELECT to see results\n",
    "cursor.execute(\"SELECT * FROM takes\")\n",
    "print(cursor.fetchall())"
   ]
  },
  {
   "cell_type": "code",
   "execution_count": 55,
   "metadata": {},
   "outputs": [],
   "source": [
    "# housekeeping\n",
    "conn.commit()\n",
    "cursor.close()\n",
    "conn.close()"
   ]
  },
  {
   "cell_type": "code",
   "execution_count": null,
   "metadata": {},
   "outputs": [],
   "source": []
  }
 ],
 "metadata": {
  "kernelspec": {
   "display_name": "Python 3",
   "language": "python",
   "name": "python3"
  },
  "language_info": {
   "codemirror_mode": {
    "name": "ipython",
    "version": 3
   },
   "file_extension": ".py",
   "mimetype": "text/x-python",
   "name": "python",
   "nbconvert_exporter": "python",
   "pygments_lexer": "ipython3",
   "version": "3.8.3"
  }
 },
 "nbformat": 4,
 "nbformat_minor": 4
}
