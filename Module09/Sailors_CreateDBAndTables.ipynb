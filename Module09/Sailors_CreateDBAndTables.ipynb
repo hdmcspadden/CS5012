{
 "cells": [
  {
   "cell_type": "code",
   "execution_count": 1,
   "metadata": {},
   "outputs": [],
   "source": [
    "# import the sqlite library\n",
    "import sqlite3"
   ]
  },
  {
   "cell_type": "code",
   "execution_count": 2,
   "metadata": {},
   "outputs": [],
   "source": [
    "# helper functions\n",
    "def return_my_tables(dbConn):\n",
    "    # do a query of the master database to return table names\n",
    "    cursorDB = dbConn.execute(\"SELECT name FROM sqlite_master WHERE type='table';\")\n",
    "    # save the table names to a list\n",
    "    tables = [\n",
    "        v[0] for v in cursorDB.fetchall()\n",
    "        if v[0] != \"sqlite_sequence\"\n",
    "    ]\n",
    "    # good housekeeping == close your cursor\n",
    "    cursorDB.close()\n",
    "    # return the tables\n",
    "    return tables"
   ]
  },
  {
   "cell_type": "code",
   "execution_count": 3,
   "metadata": {},
   "outputs": [],
   "source": [
    "# create the connection I will use to connection to the database\n",
    "# the db doesn't exist yet, but creating the connection object will create the database\n",
    "connSailors = sqlite3.connect('sailors.db')"
   ]
  },
  {
   "cell_type": "code",
   "execution_count": 4,
   "metadata": {},
   "outputs": [],
   "source": [
    "# we need a cursor so we can \"move\" through the database (i.e. use SQL statements and get/insert/update/delete data)\n",
    "cursorSailors = connSailors.cursor()"
   ]
  },
  {
   "cell_type": "code",
   "execution_count": 5,
   "metadata": {},
   "outputs": [
    {
     "name": "stdout",
     "output_type": "stream",
     "text": [
      "[]\n",
      "['Sailors', 'Reserves', 'Boats']\n"
     ]
    }
   ],
   "source": [
    "# drop the existing Boats table, if it exists\n",
    "# WARNING  = this will delete any data you saved in Boats\n",
    "sqlDropBoats = 'DROP TABLE IF EXISTS Boats'\n",
    "cursorSailors.execute(sqlDropBoats)\n",
    "\n",
    "# create the Boats table\n",
    "sqlCreateBoats = '''CREATE TABLE IF NOT EXISTS Boats \n",
    "(bid integer NOT NULL PRIMARY KEY, \n",
    "bname text NOT NULL, \n",
    "color text)'''\n",
    "cursorSailors.execute(sqlCreateBoats)\n",
    "\n",
    "# do an initial SELECT to see the empty result\n",
    "cursorSailors.execute(\"SELECT * FROM Boats\")\n",
    "print(cursorSailors.fetchall())\n",
    "\n",
    "# print a list of the tables in the database\n",
    "tables = return_my_tables(connSailors)\n",
    "print(tables) "
   ]
  },
  {
   "cell_type": "code",
   "execution_count": 6,
   "metadata": {},
   "outputs": [
    {
     "name": "stdout",
     "output_type": "stream",
     "text": [
      "[]\n",
      "['Reserves', 'Boats', 'Sailors']\n"
     ]
    }
   ],
   "source": [
    "# drop the existing Sailors table, if it exists\n",
    "# WARNING  = this will delete any data you saved in Sailors\n",
    "sqlDropBoats = 'DROP TABLE IF EXISTS Sailors'\n",
    "cursorSailors.execute(sqlDropBoats)\n",
    "\n",
    "# create the Sailors table\n",
    "sqlCreateSailors = '''CREATE TABLE IF NOT EXISTS Sailors \n",
    "(sid integer NOT NULL PRIMARY KEY, \n",
    "sname text NOT NULL, \n",
    "rating integer NOT NULL DEFAULT -1, \n",
    "age real)'''\n",
    "\n",
    "cursorSailors.execute(sqlCreateSailors)\n",
    "\n",
    "# do an initial SELECT to see the empty result\n",
    "cursorSailors.execute(\"SELECT * FROM Sailors\")\n",
    "print(cursorSailors.fetchall())\n",
    "\n",
    "# print a list of the tables in the database\n",
    "tables = return_my_tables(connSailors)\n",
    "print(tables) "
   ]
  },
  {
   "cell_type": "code",
   "execution_count": 7,
   "metadata": {},
   "outputs": [
    {
     "name": "stdout",
     "output_type": "stream",
     "text": [
      "[]\n",
      "['Boats', 'Sailors', 'Reserves']\n"
     ]
    }
   ],
   "source": [
    "# drop the existing Reserves table, if it exists\n",
    "# WARNING  = this will delete any data you saved in Reserves\n",
    "sqlDropReserves = 'DROP TABLE IF EXISTS Reserves'\n",
    "cursorSailors.execute(sqlDropReserves)\n",
    "\n",
    "# create the relationship table between boats and sailors == Reserves\n",
    "sqlCreateReserves = '''CREATE TABLE IF NOT EXISTS Reserves \n",
    "(sid integer NOT NULL, \n",
    "bid integer NOT NULL, \n",
    "day text NOT NULL,\n",
    "PRIMARY KEY(sid,bid,day))'''\n",
    "\n",
    "cursorSailors.execute(sqlCreateReserves)\n",
    "\n",
    "# do an initial SELECT to see the empty result\n",
    "cursorSailors.execute(\"SELECT * FROM Reserves\")\n",
    "print(cursorSailors.fetchall())\n",
    "\n",
    "# print a list of the tables in the database\n",
    "tables = return_my_tables(connSailors)\n",
    "print(tables) "
   ]
  },
  {
   "cell_type": "code",
   "execution_count": 8,
   "metadata": {},
   "outputs": [],
   "source": [
    "# housekeeping\n",
    "connSailors.commit()\n",
    "cursorSailors.close()\n",
    "connSailors.close()"
   ]
  },
  {
   "cell_type": "code",
   "execution_count": null,
   "metadata": {},
   "outputs": [],
   "source": []
  }
 ],
 "metadata": {
  "kernelspec": {
   "display_name": "Python 3",
   "language": "python",
   "name": "python3"
  },
  "language_info": {
   "codemirror_mode": {
    "name": "ipython",
    "version": 3
   },
   "file_extension": ".py",
   "mimetype": "text/x-python",
   "name": "python",
   "nbconvert_exporter": "python",
   "pygments_lexer": "ipython3",
   "version": "3.8.3"
  }
 },
 "nbformat": 4,
 "nbformat_minor": 4
}
