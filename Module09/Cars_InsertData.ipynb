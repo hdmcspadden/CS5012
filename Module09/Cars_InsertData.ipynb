{
 "cells": [
  {
   "cell_type": "code",
   "execution_count": 41,
   "metadata": {},
   "outputs": [],
   "source": [
    "# import the sqlite library\n",
    "import sqlite3"
   ]
  },
  {
   "cell_type": "code",
   "execution_count": 2,
   "metadata": {},
   "outputs": [],
   "source": [
    "# helper functions here"
   ]
  },
  {
   "cell_type": "code",
   "execution_count": 42,
   "metadata": {},
   "outputs": [],
   "source": [
    "# create the connection I will use to connection to the database\n",
    "# the database should exist before running this, otherwise it will create an empty database\n",
    "conn = sqlite3.connect('car.db')"
   ]
  },
  {
   "cell_type": "code",
   "execution_count": 43,
   "metadata": {},
   "outputs": [],
   "source": [
    "# we need a cursor so we can \"move\" through the database (i.e. use SQL statements and get/insert/update/delete data)\n",
    "cursor = conn.cursor()"
   ]
  },
  {
   "cell_type": "code",
   "execution_count": 16,
   "metadata": {},
   "outputs": [
    {
     "name": "stdout",
     "output_type": "stream",
     "text": [
      "[('G78', 'Honda', 'Civiv', 'Su5'), ('H98', 'Pontiac', 'GrandAm', 'Su5'), ('H56', 'VW', 'Beetle', 'Bu2'), ('T45', 'Plymouth', 'Voyager', 'Jo2')]\n"
     ]
    }
   ],
   "source": [
    "# DELETE all existing records in the Vehicles table\n",
    "# WARNING: this does what it says it does.\n",
    "# WHY DO THIS?? So you don't create duplicate records\n",
    "sqlDelete = 'DELETE FROM Vehicles'\n",
    "cursor.execute(sqlDelete)\n",
    "\n",
    "# insert into the Vehicles table\n",
    "sqlInsert = '''INSERT INTO Vehicles (VIN, Make, Model, ID) VALUES ('G78', 'Honda', 'Civiv', 'Su5')''' \n",
    "cursor.execute(sqlInsert)\n",
    "\n",
    "sqlInsert = '''INSERT INTO Vehicles (VIN, Make, Model, ID) VALUES ('H98', 'Pontiac', 'GrandAm', 'Su5')''' \n",
    "cursor.execute(sqlInsert)\n",
    "\n",
    "sqlInsert = '''INSERT INTO Vehicles (VIN, Make, Model, ID) VALUES ('H56', 'VW', 'Beetle', 'Bu2')''' \n",
    "cursor.execute(sqlInsert)\n",
    "\n",
    "sqlInsert = '''INSERT INTO Vehicles (VIN, Make, Model, ID) VALUES ('T45', 'Plymouth', 'Voyager', 'Jo2')''' \n",
    "cursor.execute(sqlInsert)\n",
    "\n",
    "\n",
    "# do an initial SELECT to see results\n",
    "cursor.execute(\"SELECT * FROM Vehicles\")\n",
    "print(cursor.fetchall())\n"
   ]
  },
  {
   "cell_type": "code",
   "execution_count": 17,
   "metadata": {},
   "outputs": [
    {
     "name": "stdout",
     "output_type": "stream",
     "text": [
      "[('Su5', 'Suchet', 'Hickory', 'NC'), ('Sm3', 'Smith', 'Raleigh', 'NC'), ('Bu2', 'Butler', 'Chapel Hill', 'NC'), ('Jo2', 'Jones', 'Charlotte', 'NC'), ('Wi9', 'Williams', 'Fayetteville', 'NC')]\n"
     ]
    }
   ],
   "source": [
    "# DELETE all existing records in the People table\n",
    "# WARNING: this does what it says it does.\n",
    "# WHY DO THIS?? So you don't create duplicate records\n",
    "sqlDelete = 'DELETE FROM People'\n",
    "cursor.execute(sqlDelete)\n",
    "\n",
    "# insert into the People table\n",
    "sqlInsert = '''INSERT INTO People (ID, Name, City, State) VALUES ('Su5', 'Suchet', 'Hickory', 'NC')''' \n",
    "cursor.execute(sqlInsert)\n",
    "\n",
    "sqlInsert = '''INSERT INTO People (ID, Name, City, State) VALUES ('Sm3', 'Smith', 'Raleigh', 'NC')''' \n",
    "cursor.execute(sqlInsert)\n",
    "\n",
    "sqlInsert = '''INSERT INTO People (ID, Name, City, State) VALUES ('Bu2', 'Butler', 'Chapel Hill', 'NC')''' \n",
    "cursor.execute(sqlInsert)\n",
    "\n",
    "sqlInsert = '''INSERT INTO People (ID, Name, City, State) VALUES ('Jo2', 'Jones', 'Charlotte', 'NC')''' \n",
    "cursor.execute(sqlInsert)\n",
    "\n",
    "sqlInsert = '''INSERT INTO People (ID, Name, City, State) VALUES ('Wi9', 'Williams', 'Fayetteville', 'NC')''' \n",
    "cursor.execute(sqlInsert)\n",
    "\n",
    "\n",
    "# do an initial SELECT to see results\n",
    "cursor.execute(\"SELECT * FROM People\")\n",
    "print(cursor.fetchall())"
   ]
  },
  {
   "cell_type": "code",
   "execution_count": 19,
   "metadata": {},
   "outputs": [
    {
     "name": "stdout",
     "output_type": "stream",
     "text": [
      "[('M_98', 'Bu2'), ('M_56', 'Wi9'), ('M_23', 'Sm3')]\n"
     ]
    }
   ],
   "source": [
    "# DELETE all existing records in the Mechanics table\n",
    "# WARNING: this does what it says it does.\n",
    "# WHY DO THIS?? So you don't create duplicate records\n",
    "sqlDelete = 'DELETE FROM Mechanics'\n",
    "cursor.execute(sqlDelete)\n",
    "\n",
    "# insert into the Mechanics table\n",
    "sqlInsert = '''INSERT INTO Mechanics (MechID, ID) VALUES ('M_98', 'Bu2')''' \n",
    "cursor.execute(sqlInsert)\n",
    "\n",
    "sqlInsert = '''INSERT INTO Mechanics (MechID, ID) VALUES ('M_56', 'Wi9')''' \n",
    "cursor.execute(sqlInsert)\n",
    "\n",
    "sqlInsert = '''INSERT INTO Mechanics (MechID, ID) VALUES ('M_23', 'Sm3')''' \n",
    "cursor.execute(sqlInsert)\n",
    "\n",
    "\n",
    "\n",
    "# do an initial SELECT to see results\n",
    "cursor.execute(\"SELECT * FROM Mechanics\")\n",
    "print(cursor.fetchall())"
   ]
  },
  {
   "cell_type": "code",
   "execution_count": 20,
   "metadata": {},
   "outputs": [
    {
     "name": "stdout",
     "output_type": "stream",
     "text": [
      "[(901, 'Battery', 4, 80.0), (902, 'Alternator', 4, 100.0), (903, 'Brakes', 2, 150.0), (904, 'Fan Belt', 1, 20.0)]\n"
     ]
    }
   ],
   "source": [
    "# DELETE all existing records in the Parts table\n",
    "# WARNING: this does what it says it does.\n",
    "# WHY DO THIS?? So you don't create duplicate records\n",
    "sqlDelete = 'DELETE FROM Parts'\n",
    "cursor.execute(sqlDelete)\n",
    "\n",
    "# insert into the Parts table\n",
    "sqlInsert = '''INSERT INTO Parts (PID, PartName, Shelf, Price) VALUES (901, 'Battery', 4, 80)''' \n",
    "cursor.execute(sqlInsert)\n",
    "\n",
    "sqlInsert = '''INSERT INTO Parts (PID, PartName, Shelf, Price) VALUES (902, 'Alternator', 4, 100)''' \n",
    "cursor.execute(sqlInsert)\n",
    "\n",
    "sqlInsert = '''INSERT INTO Parts (PID, PartName, Shelf, Price) VALUES (903, 'Brakes', 2, 150)''' \n",
    "cursor.execute(sqlInsert)\n",
    "\n",
    "sqlInsert = '''INSERT INTO Parts (PID, PartName, Shelf, Price) VALUES (904, 'Fan Belt', 1, 20)''' \n",
    "cursor.execute(sqlInsert)\n",
    "\n",
    "# do an initial SELECT to see results\n",
    "cursor.execute(\"SELECT * FROM Parts\")\n",
    "print(cursor.fetchall())"
   ]
  },
  {
   "cell_type": "code",
   "execution_count": 21,
   "metadata": {},
   "outputs": [
    {
     "name": "stdout",
     "output_type": "stream",
     "text": [
      "[('R_14', 'M_98', 'G78', 3), ('R_34', 'M_98', 'H56', 3), ('R_22', 'M_23', 'T45', 2), ('R_66', 'M_56', 'G78', 1)]\n"
     ]
    }
   ],
   "source": [
    "# DELETE all existing records in the Repairs table\n",
    "# WARNING: this does what it says it does.\n",
    "# WHY DO THIS?? So you don't create duplicate records\n",
    "sqlDelete = 'DELETE FROM Repairs'\n",
    "cursor.execute(sqlDelete)\n",
    "\n",
    "# insert into the Repairs table\n",
    "sqlInsert = '''INSERT INTO Repairs (RID, MechID, VIN, Hours) VALUES ('R_14', 'M_98', 'G78', 3)''' \n",
    "cursor.execute(sqlInsert)\n",
    "\n",
    "# insert into the Repairs table\n",
    "sqlInsert = '''INSERT INTO Repairs (RID, MechID, VIN, Hours) VALUES ('R_34', 'M_98', 'H56', 3)''' \n",
    "cursor.execute(sqlInsert)\n",
    "\n",
    "# insert into the Repairs table\n",
    "sqlInsert = '''INSERT INTO Repairs (RID, MechID, VIN, Hours) VALUES ('R_22', 'M_23', 'T45', 2)''' \n",
    "cursor.execute(sqlInsert)\n",
    "\n",
    "# insert into the Repairs table\n",
    "sqlInsert = '''INSERT INTO Repairs (RID, MechID, VIN, Hours) VALUES ('R_66', 'M_56', 'G78', 1)''' \n",
    "cursor.execute(sqlInsert)\n",
    "\n",
    "\n",
    "# do an initial SELECT to see results\n",
    "cursor.execute(\"SELECT * FROM Repairs\")\n",
    "print(cursor.fetchall())"
   ]
  },
  {
   "cell_type": "code",
   "execution_count": 59,
   "metadata": {},
   "outputs": [
    {
     "name": "stdout",
     "output_type": "stream",
     "text": [
      "[('R_14', 902), ('R_14', 903), ('R_34', 901), ('R_34', 901), ('R_22', 902), ('R_66', 904), ('R_66', 901)]\n"
     ]
    }
   ],
   "source": [
    "# DELETE all existing records in the Repair_Parts table\n",
    "# WARNING: this does what it says it does.\n",
    "# WHY DO THIS?? So you don't create duplicate records\n",
    "sqlDelete = 'DELETE FROM Repair_Parts'\n",
    "cursor.execute(sqlDelete)\n",
    "\n",
    "# insert into the Repair_Parts table\n",
    "sqlInsert = '''INSERT INTO Repair_Parts (RID, PID) VALUES ('R_14', 902)''' \n",
    "cursor.execute(sqlInsert)\n",
    "\n",
    "sqlInsert = '''INSERT INTO Repair_Parts (RID, PID) VALUES ('R_14', 903)''' \n",
    "cursor.execute(sqlInsert)\n",
    "\n",
    "sqlInsert = '''INSERT INTO Repair_Parts (RID, PID) VALUES ('R_34', 901)''' \n",
    "cursor.execute(sqlInsert)\n",
    "\n",
    "sqlInsert = '''INSERT INTO Repair_Parts (RID, PID) VALUES ('R_34', 901)''' \n",
    "cursor.execute(sqlInsert)\n",
    "\n",
    "sqlInsert = '''INSERT INTO Repair_Parts (RID, PID) VALUES ('R_22', 902)''' \n",
    "cursor.execute(sqlInsert)\n",
    "\n",
    "sqlInsert = '''INSERT INTO Repair_Parts (RID, PID) VALUES ('R_66', 904)''' \n",
    "cursor.execute(sqlInsert)\n",
    "\n",
    "sqlInsert = '''INSERT INTO Repair_Parts (RID, PID) VALUES ('R_66', 901)''' \n",
    "cursor.execute(sqlInsert)\n",
    "\n",
    "# do an initial SELECT to see results\n",
    "cursor.execute(\"SELECT * FROM Repair_Parts\")\n",
    "print(cursor.fetchall())"
   ]
  },
  {
   "cell_type": "code",
   "execution_count": 28,
   "metadata": {},
   "outputs": [
    {
     "name": "stdout",
     "output_type": "stream",
     "text": [
      "[('G78', 'Honda', 'Civiv', 'Su5'), ('H98', 'Pontiac', 'GrandAm', 'Su5'), ('H56', 'VW', 'Beetle', 'Bu2'), ('T45', 'Plymouth', 'Voyager', 'Jo2')]\n"
     ]
    }
   ],
   "source": [
    "# do an initial SELECT\n",
    "cursor.execute(\"SELECT * FROM Vehicles\")\n",
    "print(cursor.fetchall())"
   ]
  },
  {
   "cell_type": "code",
   "execution_count": 39,
   "metadata": {},
   "outputs": [
    {
     "name": "stdout",
     "output_type": "stream",
     "text": [
      "[('Smith',)]\n"
     ]
    }
   ],
   "source": [
    "cursor.execute('''\n",
    "SELECT People.Name \n",
    "FROM People \n",
    "JOIN Mechanics ON People.ID = Mechanics.ID \n",
    "WHERE People.Name LIKE 'S%'\n",
    "''')\n",
    "print(cursor.fetchall())"
   ]
  },
  {
   "cell_type": "code",
   "execution_count": 64,
   "metadata": {},
   "outputs": [
    {
     "name": "stdout",
     "output_type": "stream",
     "text": [
      "[('Suchet',)]\n"
     ]
    }
   ],
   "source": [
    "#Find the names of the customers who got both a battery and alternator replaced.\n",
    "cursor.execute('''\n",
    "SELECT People.Name \n",
    "FROM People \n",
    "WHERE People.ID IN (\n",
    "SELECT Vehicles.ID\n",
    "FROM Vehicles \n",
    "JOIN Repairs ON Vehicles.VIN = Repairs.VIN\n",
    "JOIN Repair_Parts ON Repairs.RID = Repair_Parts.RID\n",
    "WHERE PID IN (901,902)\n",
    "GROUP BY Vehicles.ID\n",
    "HAVING COUNT(DISTINCT PID) > 1\n",
    ")\n",
    "''')\n",
    "print(cursor.fetchall())\n"
   ]
  },
  {
   "cell_type": "markdown",
   "metadata": {},
   "source": [
    "# After this do some queries"
   ]
  },
  {
   "cell_type": "code",
   "execution_count": null,
   "metadata": {},
   "outputs": [],
   "source": []
  },
  {
   "cell_type": "code",
   "execution_count": 40,
   "metadata": {},
   "outputs": [],
   "source": [
    "# housekeeping\n",
    "# need to commit all the inserts! if you don't do this, they won't be there in another session\n",
    "conn.commit()\n",
    "cursor.close()\n",
    "conn.close()"
   ]
  }
 ],
 "metadata": {
  "kernelspec": {
   "display_name": "Python 3",
   "language": "python",
   "name": "python3"
  },
  "language_info": {
   "codemirror_mode": {
    "name": "ipython",
    "version": 3
   },
   "file_extension": ".py",
   "mimetype": "text/x-python",
   "name": "python",
   "nbconvert_exporter": "python",
   "pygments_lexer": "ipython3",
   "version": "3.8.3"
  }
 },
 "nbformat": 4,
 "nbformat_minor": 4
}
