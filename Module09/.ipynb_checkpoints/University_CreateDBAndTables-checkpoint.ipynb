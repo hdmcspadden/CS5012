{
 "cells": [
  {
   "cell_type": "code",
   "execution_count": 18,
   "metadata": {},
   "outputs": [],
   "source": [
    "# import the sqlite library\n",
    "import sqlite3"
   ]
  },
  {
   "cell_type": "code",
   "execution_count": 19,
   "metadata": {},
   "outputs": [],
   "source": [
    "# helper functions\n",
    "def return_my_tables(dbConn):\n",
    "    # do a query of the master database to return table names\n",
    "    cursorDB = dbConn.execute(\"SELECT name FROM sqlite_master WHERE type='table';\")\n",
    "    # save the table names to a list\n",
    "    tables = [\n",
    "        v[0] for v in cursorDB.fetchall()\n",
    "        if v[0] != \"sqlite_sequence\"\n",
    "    ]\n",
    "    # good housekeeping == close your cursor\n",
    "    cursorDB.close()\n",
    "    # return the tables\n",
    "    return tables"
   ]
  },
  {
   "cell_type": "code",
   "execution_count": 28,
   "metadata": {},
   "outputs": [],
   "source": [
    "# create the connection I will use to connection to the database\n",
    "# the db doesn't exist yet, but creating the connection object will create the database\n",
    "conn = sqlite3.connect('uni.db')"
   ]
  },
  {
   "cell_type": "code",
   "execution_count": 29,
   "metadata": {},
   "outputs": [],
   "source": [
    "# we need a cursor so we can \"move\" through the database (i.e. use SQL statements and get/insert/update/delete data)\n",
    "cursor = conn.cursor()"
   ]
  },
  {
   "cell_type": "code",
   "execution_count": 23,
   "metadata": {},
   "outputs": [
    {
     "name": "stdout",
     "output_type": "stream",
     "text": [
      "[]\n",
      "['course', 'instructor', 'section', 'student', 'takes', 'department']\n"
     ]
    }
   ],
   "source": [
    "# drop the existing course table, if it exists\n",
    "# WARNING  = this will delete any data you saved in course\n",
    "sqlDrop = 'DROP TABLE IF EXISTS department'\n",
    "cursor.execute(sqlDrop)\n",
    "\n",
    "# create the Boats table\n",
    "sqlCreate = '''CREATE TABLE IF NOT EXISTS department \n",
    "(dept_name text NOT NULL PRIMARY KEY, \n",
    "building text NOT NULL DEFAULT '', \n",
    "budget real NOT NULL DEFAULT 0)'''\n",
    "cursor.execute(sqlCreate)\n",
    "\n",
    "# do an initial SELECT to see the empty result\n",
    "cursor.execute(\"SELECT * FROM department\")\n",
    "print(cursor.fetchall())\n",
    "\n",
    "# print a list of the tables in the database\n",
    "tables = return_my_tables(conn)\n",
    "print(tables) "
   ]
  },
  {
   "cell_type": "code",
   "execution_count": 24,
   "metadata": {},
   "outputs": [
    {
     "name": "stdout",
     "output_type": "stream",
     "text": [
      "[]\n",
      "['instructor', 'section', 'student', 'takes', 'department', 'course']\n"
     ]
    }
   ],
   "source": [
    "# drop the existing course table, if it exists\n",
    "# WARNING  = this will delete any data you saved in course\n",
    "sqlDrop = 'DROP TABLE IF EXISTS course'\n",
    "cursor.execute(sqlDrop)\n",
    "\n",
    "# create the Boats table\n",
    "sqlCreate = '''CREATE TABLE IF NOT EXISTS course \n",
    "(course_id text NOT NULL PRIMARY KEY, \n",
    "title text NOT NULL DEFAULT '', \n",
    "dept_name text NOT NULL,\n",
    "credits int NOT NULL DEFAULT 0,\n",
    "FOREIGN KEY(dept_name) REFERENCES department(dept_name))'''\n",
    "cursor.execute(sqlCreate)\n",
    "\n",
    "# do an initial SELECT to see the empty result\n",
    "cursor.execute(\"SELECT * FROM course\")\n",
    "print(cursor.fetchall())\n",
    "\n",
    "# print a list of the tables in the database\n",
    "tables = return_my_tables(conn)\n",
    "print(tables) "
   ]
  },
  {
   "cell_type": "code",
   "execution_count": 9,
   "metadata": {},
   "outputs": [
    {
     "name": "stdout",
     "output_type": "stream",
     "text": [
      "[]\n",
      "['department', 'course', 'instructor']\n"
     ]
    }
   ],
   "source": [
    "# drop the existing instructor table, if it exists\n",
    "# WARNING  = this will delete any data you saved in instructor\n",
    "sqlDrop = 'DROP TABLE IF EXISTS instructor'\n",
    "cursor.execute(sqlDrop)\n",
    "\n",
    "# create the Boats table\n",
    "sqlCreate = '''CREATE TABLE IF NOT EXISTS instructor \n",
    "(ID int NOT NULL PRIMARY KEY, \n",
    "name text NOT NULL DEFAULT '', \n",
    "dept_name text NOT NULL,\n",
    "salary real NOT NULL DEFAULT 0,\n",
    "FOREIGN KEY(dept_name) REFERENCES department(dept_name))'''\n",
    "cursor.execute(sqlCreate)\n",
    "\n",
    "# do an initial SELECT to see the empty result\n",
    "cursor.execute(\"SELECT * FROM instructor\")\n",
    "print(cursor.fetchall())\n",
    "\n",
    "# print a list of the tables in the database\n",
    "tables = return_my_tables(conn)\n",
    "print(tables) "
   ]
  },
  {
   "cell_type": "code",
   "execution_count": 25,
   "metadata": {},
   "outputs": [
    {
     "name": "stdout",
     "output_type": "stream",
     "text": [
      "[]\n",
      "['instructor', 'student', 'takes', 'department', 'course', 'section']\n"
     ]
    }
   ],
   "source": [
    "# drop the existing section table, if it exists\n",
    "# WARNING  = this will delete any data you saved in section\n",
    "sqlDrop = 'DROP TABLE IF EXISTS section'\n",
    "cursor.execute(sqlDrop)\n",
    "\n",
    "# create the Boats table\n",
    "sqlCreate = '''CREATE TABLE IF NOT EXISTS section \n",
    "(course_id text NOT NULL, \n",
    "sec_id integer NOT NULL,\n",
    "semester text NOT NULL,\n",
    "year int NOT NULL,\n",
    "building text,\n",
    "room_number int,\n",
    "time_slot_id text NOT NULL,\n",
    "PRIMARY KEY(course_id,sec_id,semester))'''\n",
    "cursor.execute(sqlCreate)\n",
    "\n",
    "# do an initial SELECT to see the empty result\n",
    "cursor.execute(\"SELECT * FROM section\")\n",
    "print(cursor.fetchall())\n",
    "\n",
    "# print a list of the tables in the database\n",
    "tables = return_my_tables(conn)\n",
    "print(tables) "
   ]
  },
  {
   "cell_type": "code",
   "execution_count": 12,
   "metadata": {},
   "outputs": [
    {
     "name": "stdout",
     "output_type": "stream",
     "text": [
      "[]\n",
      "['department', 'course', 'instructor', 'section', 'student']\n"
     ]
    }
   ],
   "source": [
    "# drop the existing student table, if it exists\n",
    "# WARNING  = this will delete any data you saved in student\n",
    "sqlDrop = 'DROP TABLE IF EXISTS student'\n",
    "cursor.execute(sqlDrop)\n",
    "\n",
    "# create the Boats table\n",
    "sqlCreate = '''CREATE TABLE IF NOT EXISTS student \n",
    "(ID int NOT NULL PRIMARY KEY, \n",
    "name text NOT NULL DEFAULT '', \n",
    "dept_name text NOT NULL,\n",
    "total_cred int NOT NULL DEFAULT 0,\n",
    "FOREIGN KEY(dept_name) REFERENCES department(dept_name))'''\n",
    "cursor.execute(sqlCreate)\n",
    "\n",
    "# do an initial SELECT to see the empty result\n",
    "cursor.execute(\"SELECT * FROM student\")\n",
    "print(cursor.fetchall())\n",
    "\n",
    "# print a list of the tables in the database\n",
    "tables = return_my_tables(conn)\n",
    "print(tables) "
   ]
  },
  {
   "cell_type": "code",
   "execution_count": 26,
   "metadata": {},
   "outputs": [
    {
     "name": "stdout",
     "output_type": "stream",
     "text": [
      "[]\n",
      "['instructor', 'student', 'department', 'course', 'section', 'takes']\n"
     ]
    }
   ],
   "source": [
    "# drop the existing takes table, if it exists\n",
    "# WARNING  = this will delete any data you saved in takes\n",
    "sqlDrop = 'DROP TABLE IF EXISTS takes'\n",
    "cursor.execute(sqlDrop)\n",
    "\n",
    "# create the Boats table\n",
    "sqlCreate = '''CREATE TABLE IF NOT EXISTS takes \n",
    "(ID int NOT NULL, \n",
    "course_id text NOT NULL, \n",
    "sec_id int NOT NULL,\n",
    "semester text NOT NULL DEFAULT \"Fall\",\n",
    "year int NOT NULL,\n",
    "grade text,\n",
    "FOREIGN KEY(ID) REFERENCES student(ID),\n",
    "FOREIGN KEY(course_id) REFERENCES course(course_id),\n",
    "FOREIGN KEY(sec_id) REFERENCES section(sec_id),\n",
    "PRIMARY KEY(ID,course_id,sec_id))'''\n",
    "cursor.execute(sqlCreate)\n",
    "\n",
    "# do an initial SELECT to see the empty result\n",
    "cursor.execute(\"SELECT * FROM takes\")\n",
    "print(cursor.fetchall())\n",
    "\n",
    "# print a list of the tables in the database\n",
    "tables = return_my_tables(conn)\n",
    "print(tables) "
   ]
  },
  {
   "cell_type": "code",
   "execution_count": 27,
   "metadata": {},
   "outputs": [],
   "source": [
    "# housekeeping\n",
    "conn.commit()\n",
    "cursor.close()\n",
    "conn.close()"
   ]
  }
 ],
 "metadata": {
  "kernelspec": {
   "display_name": "Python 3",
   "language": "python",
   "name": "python3"
  },
  "language_info": {
   "codemirror_mode": {
    "name": "ipython",
    "version": 3
   },
   "file_extension": ".py",
   "mimetype": "text/x-python",
   "name": "python",
   "nbconvert_exporter": "python",
   "pygments_lexer": "ipython3",
   "version": "3.8.3"
  }
 },
 "nbformat": 4,
 "nbformat_minor": 4
}
