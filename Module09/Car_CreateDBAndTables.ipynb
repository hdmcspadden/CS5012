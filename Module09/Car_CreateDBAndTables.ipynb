{
 "cells": [
  {
   "cell_type": "code",
   "execution_count": 31,
   "metadata": {},
   "outputs": [],
   "source": [
    "# import the sqlite library\n",
    "import sqlite3"
   ]
  },
  {
   "cell_type": "code",
   "execution_count": 32,
   "metadata": {},
   "outputs": [],
   "source": [
    "# helper functions\n",
    "def return_my_tables(dbConn):\n",
    "    # do a query of the master database to return table names\n",
    "    cursorDB = dbConn.execute(\"SELECT name FROM sqlite_master WHERE type='table';\")\n",
    "    # save the table names to a list\n",
    "    tables = [\n",
    "        v[0] for v in cursorDB.fetchall()\n",
    "        if v[0] != \"sqlite_sequence\"\n",
    "    ]\n",
    "    # good housekeeping == close your cursor\n",
    "    cursorDB.close()\n",
    "    # return the tables\n",
    "    return tables"
   ]
  },
  {
   "cell_type": "code",
   "execution_count": 33,
   "metadata": {},
   "outputs": [],
   "source": [
    "# create the connection I will use to connection to the database\n",
    "# the db doesn't exist yet, but creating the connection object will create the database\n",
    "conn = sqlite3.connect('car.db')"
   ]
  },
  {
   "cell_type": "code",
   "execution_count": 34,
   "metadata": {},
   "outputs": [],
   "source": [
    "# we need a cursor so we can \"move\" through the database (i.e. use SQL statements and get/insert/update/delete data)\n",
    "cursor = conn.cursor()"
   ]
  },
  {
   "cell_type": "code",
   "execution_count": 29,
   "metadata": {},
   "outputs": [
    {
     "name": "stdout",
     "output_type": "stream",
     "text": [
      "[]\n",
      "['People', 'Mechanics', 'Parts', 'Repairs', 'Repair_Parts', 'Vehicles']\n"
     ]
    }
   ],
   "source": [
    "# drop the existing Vehicles table, if it exists\n",
    "# WARNING  = this will delete any data you saved in Vehicles\n",
    "sqldrop = 'DROP TABLE IF EXISTS Vehicles'\n",
    "cursor.execute(sqldrop)\n",
    "\n",
    "# create the Vehicles table\n",
    "sqlCreate = '''CREATE TABLE IF NOT EXISTS Vehicles \n",
    "(VIN text NOT NULL PRIMARY KEY, \n",
    "Make text NOT NULL, \n",
    "Model text NOT NULL,\n",
    "ID text NOT NULL)'''\n",
    "cursor.execute(sqlCreate)\n",
    "\n",
    "# do an initial SELECT to see the empty result\n",
    "cursor.execute(\"SELECT * FROM Vehicles\")\n",
    "print(cursor.fetchall())\n",
    "\n",
    "# print a list of the tables in the database\n",
    "tables = return_my_tables(conn)\n",
    "print(tables) "
   ]
  },
  {
   "cell_type": "code",
   "execution_count": 8,
   "metadata": {},
   "outputs": [
    {
     "name": "stdout",
     "output_type": "stream",
     "text": [
      "[]\n",
      "['Vehicles', 'People']\n"
     ]
    }
   ],
   "source": [
    "# drop the existing People table, if it exists\n",
    "# WARNING  = this will delete any data you saved in People\n",
    "sqldrop = 'DROP TABLE IF EXISTS People'\n",
    "cursor.execute(sqldrop)\n",
    "\n",
    "# create the People table\n",
    "sqlCreate = '''CREATE TABLE IF NOT EXISTS People \n",
    "(ID text NOT NULL PRIMARY KEY, \n",
    "Name text NOT NULL, \n",
    "City text NOT NULL,\n",
    "State text NOT NULL)'''\n",
    "cursor.execute(sqlCreate)\n",
    "\n",
    "# do an initial SELECT to see the empty result\n",
    "cursor.execute(\"SELECT * FROM People\")\n",
    "print(cursor.fetchall())\n",
    "\n",
    "# print a list of the tables in the database\n",
    "tables = return_my_tables(conn)\n",
    "print(tables) "
   ]
  },
  {
   "cell_type": "code",
   "execution_count": 9,
   "metadata": {},
   "outputs": [
    {
     "name": "stdout",
     "output_type": "stream",
     "text": [
      "[]\n",
      "['Vehicles', 'People', 'Mechanics']\n"
     ]
    }
   ],
   "source": [
    "# drop the existing Mechanics table, if it exists\n",
    "# WARNING  = this will delete any data you saved in Mechanics\n",
    "sqldrop = 'DROP TABLE IF EXISTS Mechanics'\n",
    "cursor.execute(sqldrop)\n",
    "\n",
    "# create the Mechanics table\n",
    "sqlCreate = '''CREATE TABLE IF NOT EXISTS Mechanics \n",
    "(MechID text NOT NULL PRIMARY KEY, \n",
    "ID text NOT NULL)'''\n",
    "cursor.execute(sqlCreate)\n",
    "\n",
    "# do an initial SELECT to see the empty result\n",
    "cursor.execute(\"SELECT * FROM Mechanics\")\n",
    "print(cursor.fetchall())\n",
    "\n",
    "# print a list of the tables in the database\n",
    "tables = return_my_tables(conn)\n",
    "print(tables) "
   ]
  },
  {
   "cell_type": "code",
   "execution_count": 10,
   "metadata": {},
   "outputs": [
    {
     "name": "stdout",
     "output_type": "stream",
     "text": [
      "[]\n",
      "['Vehicles', 'People', 'Mechanics', 'Parts']\n"
     ]
    }
   ],
   "source": [
    "# drop the existing Parts table, if it exists\n",
    "# WARNING  = this will delete any data you saved in Parts\n",
    "sqldrop = 'DROP TABLE IF EXISTS Parts'\n",
    "cursor.execute(sqldrop)\n",
    "\n",
    "# create the Mechanics table\n",
    "sqlCreate = '''CREATE TABLE IF NOT EXISTS Parts \n",
    "(PID int NOT NULL PRIMARY KEY, \n",
    "PartName text NOT NULL,\n",
    "Shelf int,\n",
    "Price real)'''\n",
    "cursor.execute(sqlCreate)\n",
    "\n",
    "# do an initial SELECT to see the empty result\n",
    "cursor.execute(\"SELECT * FROM Parts\")\n",
    "print(cursor.fetchall())\n",
    "\n",
    "# print a list of the tables in the database\n",
    "tables = return_my_tables(conn)\n",
    "print(tables) "
   ]
  },
  {
   "cell_type": "code",
   "execution_count": 11,
   "metadata": {},
   "outputs": [
    {
     "name": "stdout",
     "output_type": "stream",
     "text": [
      "[]\n",
      "['Vehicles', 'People', 'Mechanics', 'Parts', 'Repairs']\n"
     ]
    }
   ],
   "source": [
    "# drop the existing Repairs table, if it exists\n",
    "# WARNING  = this will delete any data you saved in Repairs\n",
    "sqldrop = 'DROP TABLE IF EXISTS Repairs'\n",
    "cursor.execute(sqldrop)\n",
    "\n",
    "# create the Repairs table\n",
    "sqlCreate = '''CREATE TABLE IF NOT EXISTS Repairs \n",
    "(RID text NOT NULL PRIMARY KEY, \n",
    "MechID text NOT NULL,\n",
    "VIN text NOT NULL,\n",
    "Hours int)'''\n",
    "cursor.execute(sqlCreate)\n",
    "\n",
    "# do an initial SELECT to see the empty result\n",
    "cursor.execute(\"SELECT * FROM Repairs\")\n",
    "print(cursor.fetchall())\n",
    "\n",
    "# print a list of the tables in the database\n",
    "tables = return_my_tables(conn)\n",
    "print(tables) "
   ]
  },
  {
   "cell_type": "code",
   "execution_count": 35,
   "metadata": {},
   "outputs": [
    {
     "name": "stdout",
     "output_type": "stream",
     "text": [
      "[]\n",
      "['People', 'Mechanics', 'Parts', 'Repairs', 'Vehicles', 'Repair_Parts']\n"
     ]
    }
   ],
   "source": [
    "# drop the existing Repair_Parts table, if it exists\n",
    "# WARNING  = this will delete any data you saved in Repair_Parts\n",
    "sqldrop = 'DROP TABLE IF EXISTS Repair_Parts'\n",
    "cursor.execute(sqldrop)\n",
    "\n",
    "# create the Repair_Parts table\n",
    "sqlCreate = '''CREATE TABLE IF NOT EXISTS Repair_Parts \n",
    "(RID text NOT NULL, \n",
    "PID int NOT NULL)'''\n",
    "cursor.execute(sqlCreate)\n",
    "\n",
    "# do an initial SELECT to see the empty result\n",
    "cursor.execute(\"SELECT * FROM Repair_Parts\")\n",
    "print(cursor.fetchall())\n",
    "\n",
    "# print a list of the tables in the database\n",
    "tables = return_my_tables(conn)\n",
    "print(tables) "
   ]
  },
  {
   "cell_type": "code",
   "execution_count": 36,
   "metadata": {},
   "outputs": [],
   "source": [
    "# housekeeping\n",
    "conn.commit()\n",
    "cursor.close()\n",
    "conn.close()"
   ]
  },
  {
   "cell_type": "code",
   "execution_count": null,
   "metadata": {},
   "outputs": [],
   "source": []
  }
 ],
 "metadata": {
  "kernelspec": {
   "display_name": "Python 3",
   "language": "python",
   "name": "python3"
  },
  "language_info": {
   "codemirror_mode": {
    "name": "ipython",
    "version": 3
   },
   "file_extension": ".py",
   "mimetype": "text/x-python",
   "name": "python",
   "nbconvert_exporter": "python",
   "pygments_lexer": "ipython3",
   "version": "3.8.3"
  }
 },
 "nbformat": 4,
 "nbformat_minor": 4
}
